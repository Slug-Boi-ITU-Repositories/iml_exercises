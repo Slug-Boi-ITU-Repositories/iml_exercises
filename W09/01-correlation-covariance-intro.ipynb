{
  "metadata": {
    "kernelspec": {
      "display_name": "Python",
      "language": "python3",
      "name": "python3"
    },
    "language_info": {
      "codemirror_mode": {
        "name": "ipython",
        "version": 3
      },
      "file_extension": "py",
      "mimetype": "text/x-python",
      "name": "python"
    }
  },
  "nbformat": 4,
  "nbformat_minor": 5,
  "cells": [
    {
      "cell_type": "code",
      "id": "css_setup",
      "metadata": {
        "jupyter": {
          "source_hidden": true
        }
      },
      "source": [
        "import requests\n",
        "from IPython.core.display import HTML\n",
        "HTML(f\"\"\"\n",
        "<style>\n",
        "@import \"https://cdn.jsdelivr.net/npm/bulma@0.9.4/css/bulma.min.css\";\n",
        "</style>\n",
        "\"\"\")"
      ],
      "execution_count": 0,
      "outputs": []
    },
    {
      "cell_type": "markdown",
      "id": "lfMY8c06njZ-3iFAFYLXj",
      "metadata": {},
      "source": [
        "# Covariance and Correlation\n",
        "\n",
        "**Overview**\n",
        "This exercise is an introduction to correlation and covariance matrix.\n",
        "The exercise will guide:\n",
        "- Understanding of what **covariance** and **correlation** are.\n",
        "- Implementation of both matrices using basic NumPy operations.\n",
        "- Interpreting the meaning of these matrices in terms of variable relationships.\n",
        "\n",
        "\n",
        "In data analysis and machine learning, understanding the relationships between variables is crucial.\n",
        "\n",
        "Two key tools for this are the **covariance** and **correlation** matrices.\n",
        "Recall the definitions: \n",
        "\n",
        "$$\n",
        "\\text{Covariance: }\\newline  \\text{Cov}(X, Y) = \\frac{1}{n-1} \\sum_{i=1}^{n} (X_i - \\bar{X})(Y_i - \\bar{Y})\n",
        "$$\n",
        "\n",
        "$$\\text{ }\\newline$$\n",
        "\n",
        "$$\n",
        "\\text{Correlation: } \\newline   \\text{Corr}(X, Y) = \\frac{\\text{Cov}(X, Y)}{\\sigma_X \\sigma_Y}\n",
        "$$\n",
        "The cell below defines a synthetic dataset containing 4 features, the data could resemble _height_, _weight_, _age_ and _shoe size_ of a set of people. \n",
        "\n",
        "---\n",
        "**Task 1 (medium): Reflect on theory💡📽️**\n",
        "1. Explain the key characteristics of covariance and correlation. Use the following questions to guide your explanation.    - What does each one assess?\n",
        "    - How do they describe relationships between variables differently?\n",
        "    - Why might you prefer one measure over the other in analysis?\n",
        "    - What does a covariance of zero mean? Does it imply independence?\n",
        "    - Why are the diagonal elements of the covariance matrix always the variances of the variables?\n",
        "    - Why are the diagonal elements of the correlation matrix always equal to 1?\n",
        "    - What does the sign of a covariance or correlation value tell us?\n",
        "    - Can two variables be strongly related but have a correlation close to zero? Under what circumstances?\n",
        "\n",
        "\n",
        "\n",
        "\n",
        "---"
      ]
    },
    {
      "cell_type": "code",
      "id": "27oXilCuho_bpJnF8xvAb",
      "metadata": {},
      "source": [
        "#Write your reflections here..."
      ],
      "execution_count": 0,
      "outputs": []
    },
    {
      "cell_type": "markdown",
      "id": "uAzvI80x7sNDu9VTH0yhc",
      "metadata": {},
      "source": [
        "\n",
        "---\n",
        "**Task 2 (easy): Generate data👩‍💻**\n",
        "1. Run the cell below to load the data.\n",
        "\n",
        "\n",
        "---"
      ]
    },
    {
      "cell_type": "code",
      "id": "O8-JrdtGSFqJ_p8owAX76",
      "metadata": {},
      "source": [
        "import numpy as np\n",
        "import pandas as pd\n",
        "import util_corr_cov\n",
        "\n",
        "data = {\n",
        "    'Height': [150, 155, 160, 165, 170, 175, 180, 185, 190, 195],\n",
        "    'Weight': [50, 53, 57, 60, 65, 70, 72, 75, 78, 80],\n",
        "    'Age':    [21, 22, 23, 26, 27, 28, 30, 23, 25, 31],\n",
        "    'Shoe_Size': [36, 37, 38, 39, 40, 41, 42, 41, 42, 39]\n",
        "}\n",
        "\n",
        "df = pd.DataFrame(data)\n",
        "X = df.values\n",
        "df"
      ],
      "execution_count": 0,
      "outputs": []
    },
    {
      "cell_type": "markdown",
      "id": "_PSsJl_WnfQgUm6-1-8fW",
      "metadata": {},
      "source": [
        "\n",
        "---\n",
        "**Task 3 (easy): Calculate 1👩‍💻**\n",
        "1. Complete the functions `covariance_matrix`\n",
        " and `correlation_matrix`\n",
        ".\n",
        "\n",
        "**Important**\n",
        "It is not allowed to use built-in covariance/correlation functions.\n",
        "\n",
        "\n",
        "\n",
        "\n",
        "---"
      ]
    },
    {
      "cell_type": "code",
      "id": "iCQtASMn1sWsynVniMXlS",
      "metadata": {},
      "source": [
        "def covariance_matrix(X):\n",
        "    \"\"\"\n",
        "    Computes the covariance matrix manually.\n",
        "\n",
        "    Parameters\n",
        "    ----------\n",
        "    X : numpy.ndarray, shape (n_samples, n_features)\n",
        "\n",
        "    Returns\n",
        "    -------\n",
        "    cov_matrix : numpy.ndarray, shape (n_features, n_features)\n",
        "        A square matrix representing the covariance between each pair of variables.\n",
        "    \"\"\"\n",
        "    # Write your code here\n",
        "\n",
        "\n",
        "def correlation_matrix(X):\n",
        "    \"\"\"\n",
        "    Computes the correlation matrix manually using the covariance matrix.\n",
        "\n",
        "    Parameters\n",
        "    ----------\n",
        "    X : numpy.ndarray, shape (n_samples, n_features)\n",
        "\n",
        "    Returns\n",
        "    -------\n",
        "    corr_matrix : numpy.ndarray, shape (n_features, n_features)\n",
        "        A square matrix representing the correlation between each pair of variables.\n",
        "    \"\"\"\n",
        "    # Write your code here"
      ],
      "execution_count": 0,
      "outputs": []
    },
    {
      "cell_type": "markdown",
      "id": "00fA_jU5Dq2C-uJsJmfHj",
      "metadata": {},
      "source": [
        "\n",
        "---\n",
        "**Task 4 (easy): Calculate 2👩‍💻**\n",
        "1. Run the cell below to calculate and visualize the covariance and correlation matrix.\n",
        "\n",
        "\n",
        "---"
      ]
    },
    {
      "cell_type": "code",
      "id": "J1DBBFssN2sTdC8qmWgbu",
      "metadata": {},
      "source": [
        "cov_mat = covariance_matrix(X)\n",
        "print(\"Covariance Matrix:\\n\", cov_mat)\n",
        "\n",
        "corr_mat = correlation_matrix(X)\n",
        "print(\"\\nCorrelation Matrix:\\n\", corr_mat)\n",
        "\n",
        "util_corr_cov.plot_cov(df, cov_mat)\n",
        "util_corr_cov.plot_corr(df, corr_mat)"
      ],
      "execution_count": 0,
      "outputs": []
    },
    {
      "cell_type": "markdown",
      "id": "RCqlofXDpMOm7iSjPzVNx",
      "metadata": {},
      "source": [
        "\n",
        "---\n",
        "**Task 5 (medium): Reflection💡📽️**\n",
        "Reflect on the results. Use the following questions to guide your reflection:\n",
        "1. Look at your covariance matrix. Which variables have the largest variances? What does that tell you?\n",
        "2. Which pairs of variables have the highest positive covariance or correlation?\n",
        "3. Which pairs show negative or near-zero relationships? What might that indicate?\n",
        "4. Do the results align with what you expected from the dataset?\n",
        "5. Compare your covariance and correlation matrices:\n",
        "6. How do the magnitudes of the numbers differ?\n",
        "7. What stays consistent between them?\n",
        "8. Why might correlation be a more useful comparison measure when variables are in different units or scales?\n",
        "9. If two variables have a high covariance but a low correlation, what might that suggest about the scales or units involved?\n",
        "\n",
        "\n",
        "---"
      ]
    },
    {
      "cell_type": "code",
      "id": "-4wDGBdvDnyiPYkr5o0mY",
      "metadata": {},
      "source": [
        "#Write your reflections here..."
      ],
      "execution_count": 0,
      "outputs": []
    },
    {
      "cell_type": "markdown",
      "id": "IXBbP5_Rbt6ThYiDXuytS",
      "metadata": {},
      "source": [
        ""
      ]
    }
  ]
}