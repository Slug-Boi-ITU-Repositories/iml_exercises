{
  "cells": [
    {
      "cell_type": "markdown",
      "id": "zgeyQZtaVOgreDjDgDtu1",
      "metadata": {},
      "source": [
        "# Linear Algebra\n",
        "\n",
        "**Overview**\n",
        "This exercise introduces fundamental linear algebra operations in Numpy and how to use them to solve linear systems of equations. The goal is to get familiarized with the concepts of linear algebra and how to use them in Numpy.\n",
        "\n",
        "\n",
        "<article class=\"message\">\n",
        "    <div class=\"message-body\">\n",
        "        <strong>List of individual tasks</strong>\n",
        "        <ul style=\"list-style: none;\">\n",
        "            <li>\n",
        "            <a href=\"#diff\">Task 1: Elementwise difference</a>\n",
        "            </li>\n",
        "            <li>\n",
        "            <a href=\"#mul_prop\">Task 2: Multiplication properties</a>\n",
        "            </li>\n",
        "            <li>\n",
        "            <a href=\"#elem_mul\">Task 3: Elementwise multiplication - Hadamard pr…</a>\n",
        "            </li>\n",
        "        </ul>\n",
        "    </div>\n",
        "</article>\n",
        "\n",
        "The cell below defines matrices `A`\n",
        ", `B`\n",
        ", `C`\n",
        ", `D`\n",
        ", `E`\n",
        " that are used throughout the exercise:\n"
      ]
    },
    {
      "cell_type": "code",
      "execution_count": 2,
      "id": "C2-Ot4lv8qF_4reY7DMUT",
      "metadata": {},
      "outputs": [],
      "source": [
        "import numpy as np\n",
        "import matplotlib.pyplot as plt"
      ]
    },
    {
      "cell_type": "markdown",
      "id": "fe05kxS6N3xDebBr-lb0d",
      "metadata": {},
      "source": []
    },
    {
      "cell_type": "code",
      "execution_count": 3,
      "id": "pze-sM57DXXdeagvwn69b",
      "metadata": {},
      "outputs": [],
      "source": [
        "# Define matrices to be used in the tasks:\n",
        "A = np.array([\n",
        "    [1, 0.5, 1/3, 0.25],\n",
        "    [0.5, 1/3, 0.25, 0.2],\n",
        "    [1/3, 0.25, 0.2, 1/6],\n",
        "    [0.25, 0.2, 1/6, 1/7]\n",
        "])\n",
        "\n",
        "B = np.array([\n",
        "    [-16, 15, -14, 13],\n",
        "    [-12, 11, -10, 9],\n",
        "    [-8, 7, -6, 5],\n",
        "    [-4, 3, -2, 1]\n",
        "])\n",
        "\n",
        "C = np.array([\n",
        "    [1, 1/2, 1/3, 1/4],\n",
        "    [1/2, 1/3, 1/4, 1/5],\n",
        "    [1/3, 1/5, 1/7, 1/9],\n",
        "    [1/4, 1/7, 1/8, 1/9],\n",
        "])\n",
        "\n",
        "D = np.array([\n",
        "    [2, 4, 5/2],\n",
        "    [-3/4, 2, 0.25],\n",
        "    [0.25, 0.5, 2]\n",
        "])\n",
        "\n",
        "E = np.array([\n",
        "    [1, -0.5],\n",
        "    [3/2, 0.5],\n",
        "    [0.25, 1]\n",
        "])"
      ]
    },
    {
      "cell_type": "markdown",
      "id": "1w6bZf2S3jlspPZPdOiOL",
      "metadata": {},
      "source": [
        "## Matrix Operations\n",
        "\n",
        "---\n",
        "**Task 1 (easy): Elementwise difference👩‍💻**\n",
        "1. Calculate $A-B$ in the code cell below.\n",
        "\n",
        "\n",
        "---"
      ]
    },
    {
      "cell_type": "code",
      "execution_count": 4,
      "id": "LCCtfMNfmepJTtzDUi96F",
      "metadata": {},
      "outputs": [
        {
          "data": {
            "text/plain": [
              "array([[ 17.        , -14.5       ,  14.33333333, -12.75      ],\n",
              "       [ 12.5       , -10.66666667,  10.25      ,  -8.8       ],\n",
              "       [  8.33333333,  -6.75      ,   6.2       ,  -4.83333333],\n",
              "       [  4.25      ,  -2.8       ,   2.16666667,  -0.85714286]])"
            ]
          },
          "execution_count": 4,
          "metadata": {},
          "output_type": "execute_result"
        }
      ],
      "source": [
        "# Write your solution here\n",
        "A-B"
      ]
    },
    {
      "cell_type": "markdown",
      "id": "yQb9ePf7G0HPnlq8cbAAt",
      "metadata": {},
      "source": [
        "\n",
        "---\n",
        "**Task 2 (easy): Multiplication properties👩‍💻📽️**\n",
        "1. Calculate $AC$ and $CA$ in the code cell below. (You may use either [`np.dot`\n",
        "](https://numpy.org/doc/stable/reference/generated/numpy.dot.html<elem-3>.dot)\n",
        " or the `@`\n",
        " operator).\n",
        "\n",
        "2. Explain why the results are different.\n",
        "\n",
        "3. Calculate $DE$ and $ED$ in the code cell below.\n",
        "\n",
        "4. Explain what happens and why.\n",
        "\n",
        "\n",
        "\n",
        "---"
      ]
    },
    {
      "cell_type": "code",
      "execution_count": null,
      "id": "yWxW-n_Lq8sx4TQ_zzFgP",
      "metadata": {},
      "outputs": [
        {
          "name": "stdout",
          "output_type": "stream",
          "text": [
            "AC: \n",
            " [[1.42361111 0.76904762 0.53720238 0.41481481]\n",
            " [0.8        0.43968254 0.31071429 0.24166667]\n",
            " [0.56666667 0.31380952 0.22301587 0.17407407]\n",
            " [0.44126984 0.24540816 0.175      0.13689153]]\n",
            "CA: \n",
            " [[1.42361111 0.8        0.56666667 0.44126984]\n",
            " [0.8        0.46361111 0.33333333 0.26190476]\n",
            " [0.50873016 0.29126984 0.20820106 0.16301587]\n",
            " [0.39087302 0.22609127 0.16256614 0.12777778]]\n",
            "DE: \n",
            " [[8.625  3.5   ]\n",
            " [2.3125 1.625 ]\n",
            " [1.5    2.125 ]]\n"
          ]
        },
        {
          "ename": "ValueError",
          "evalue": "matmul: Input operand 1 has a mismatch in its core dimension 0, with gufunc signature (n?,k),(k,m?)->(n?,m?) (size 3 is different from 2)",
          "output_type": "error",
          "traceback": [
            "\u001b[31m---------------------------------------------------------------------------\u001b[39m",
            "\u001b[31mValueError\u001b[39m                                Traceback (most recent call last)",
            "\u001b[36mCell\u001b[39m\u001b[36m \u001b[39m\u001b[32mIn[12]\u001b[39m\u001b[32m, line 10\u001b[39m\n\u001b[32m      4\u001b[39m \u001b[33;03m\"\"\"\u001b[39;00m\n\u001b[32m      5\u001b[39m \u001b[33;03mSince the dot-product is calculated by the inner-products of the left operands rows and the right operands columns, the values are different depending on which vector is which operand\u001b[39;00m\n\u001b[32m      6\u001b[39m \u001b[33;03m(they are non-commutative)\u001b[39;00m\n\u001b[32m      7\u001b[39m \u001b[33;03m\"\"\"\u001b[39;00m\n\u001b[32m      9\u001b[39m \u001b[38;5;28mprint\u001b[39m(\u001b[33m\"\u001b[39m\u001b[33mDE: \u001b[39m\u001b[38;5;130;01m\\n\u001b[39;00m\u001b[33m\"\u001b[39m, np.dot(D,E))\n\u001b[32m---> \u001b[39m\u001b[32m10\u001b[39m \u001b[38;5;28mprint\u001b[39m(\u001b[33m\"\u001b[39m\u001b[33mED: \u001b[39m\u001b[38;5;130;01m\\n\u001b[39;00m\u001b[33m\"\u001b[39m, \u001b[43mE\u001b[49m\u001b[38;5;129;43m@D\u001b[39;49m)\n",
            "\u001b[31mValueError\u001b[39m: matmul: Input operand 1 has a mismatch in its core dimension 0, with gufunc signature (n?,k),(k,m?)->(n?,m?) (size 3 is different from 2)"
          ]
        }
      ],
      "source": [
        "# Write your solution here\n",
        "print(\"AC: \\n\", np.dot(A,C))\n",
        "print(\"CA: \\n\", C@A)\n",
        "\"\"\"\n",
        "Since the dot-product is calculated by the inner-products of the left operands rows and the right operands columns, the values are different depending on which vector is which operand\n",
        "(they are non-commutative)\n",
        "\"\"\"\n",
        "\n",
        "print(\"DE: \\n\", np.dot(D,E))\n",
        "print(\"ED: \\n\", E@D)\n",
        "\n",
        "\"\"\"\n",
        "This does not work because D is a 3x3 matrix and E is a 3x2 matrix, and the left operand must have the same number of columns as the right has rows\n",
        "This means that DE works since D has 3 columns and E has 3 rows, but ED does not work since E has 2 columns and D has 3 rows\n",
        "\"\"\""
      ]
    },
    {
      "cell_type": "markdown",
      "id": "l0RqnPAg8kMqPdrVrySDv",
      "metadata": {},
      "source": [
        "\n",
        "---\n",
        "**Task 3 (easy): Elementwise multiplication - Hadamard product👩‍💻**\n",
        "1. Calculate the elementwise multiplication of $A$ and $C$ using the `*`\n",
        " operator.\n",
        "2. Explain the difference between the `*`\n",
        " and `@`\n",
        " operators and identify which one is matrix multiplication.\n",
        "\n",
        "\n",
        "---"
      ]
    },
    {
      "cell_type": "code",
      "execution_count": null,
      "id": "iN42xJk0MLetIal4Qy_As",
      "metadata": {},
      "outputs": [
        {
          "name": "stdout",
          "output_type": "stream",
          "text": [
            "A*C:\n",
            " [[1.         0.25       0.11111111 0.0625    ]\n",
            " [0.25       0.11111111 0.0625     0.04      ]\n",
            " [0.11111111 0.05       0.02857143 0.01851852]\n",
            " [0.0625     0.02857143 0.02083333 0.01587302]]\n",
            "A@C:\n",
            " [[1.42361111 0.76904762 0.53720238 0.41481481]\n",
            " [0.8        0.43968254 0.31071429 0.24166667]\n",
            " [0.56666667 0.31380952 0.22301587 0.17407407]\n",
            " [0.44126984 0.24540816 0.175      0.13689153]]\n"
          ]
        }
      ],
      "source": [
        "# Write your solution here\n",
        "print(\"A*C:\\n\", A*C)\n",
        "print(\"A@C:\\n\", A@C)\n",
        "\n",
        "\"\"\"\n",
        "'*' multiplies each element with its respective counter-elements where '@' calculates the inner products between the vectors in the matrices. '@' is considered matrix multiplication\n",
        "\"\"\"\n"
      ]
    },
    {
      "cell_type": "markdown",
      "id": "5S5457EnDqkWz5SkhtmyT",
      "metadata": {},
      "source": [
        "---\n"
      ]
    }
  ],
  "metadata": {
    "kernelspec": {
      "display_name": "iml",
      "language": "python",
      "name": "python3"
    },
    "language_info": {
      "codemirror_mode": {
        "name": "ipython",
        "version": 3
      },
      "file_extension": ".py",
      "mimetype": "text/x-python",
      "name": "python",
      "nbconvert_exporter": "python",
      "pygments_lexer": "ipython3",
      "version": "3.11.13"
    }
  },
  "nbformat": 4,
  "nbformat_minor": 5
}
