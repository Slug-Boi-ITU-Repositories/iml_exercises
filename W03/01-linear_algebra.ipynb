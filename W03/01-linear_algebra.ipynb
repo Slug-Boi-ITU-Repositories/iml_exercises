{
  "cells": [
    {
      "cell_type": "markdown",
      "id": "zgeyQZtaVOgreDjDgDtu1",
      "metadata": {},
      "source": [
        "# Linear Algebra\n",
        "\n",
        "**Overview**\n",
        "This exercise introduces fundamental linear algebra operations in Numpy and how to use them to solve linear systems of equations. The goal is to get familiarized with the concepts of linear algebra and how to use them in Numpy.\n",
        "\n",
        "\n",
        "<article class=\"message\">\n",
        "    <div class=\"message-body\">\n",
        "        <strong>List of individual tasks</strong>\n",
        "        <ul style=\"list-style: none;\">\n",
        "            <li>\n",
        "            <a href=\"#diff\">Task 1: Elementwise difference</a>\n",
        "            </li>\n",
        "            <li>\n",
        "            <a href=\"#mul_prop\">Task 2: Multiplication properties</a>\n",
        "            </li>\n",
        "            <li>\n",
        "            <a href=\"#elem_mul\">Task 3: Elementwise multiplication - Hadamard pr…</a>\n",
        "            </li>\n",
        "        </ul>\n",
        "    </div>\n",
        "</article>\n",
        "\n",
        "The cell below defines matrices `A`\n",
        ", `B`\n",
        ", `C`\n",
        ", `D`\n",
        ", `E`\n",
        " that are used throughout the exercise:\n"
      ]
    },
    {
      "cell_type": "code",
      "execution_count": 0,
      "id": "C2-Ot4lv8qF_4reY7DMUT",
      "metadata": {},
      "outputs": [],
      "source": [
        "import numpy as np\n",
        "import matplotlib.pyplot as plt"
      ]
    },
    {
      "cell_type": "markdown",
      "id": "fe05kxS6N3xDebBr-lb0d",
      "metadata": {},
      "source": []
    },
    {
      "cell_type": "code",
      "execution_count": 0,
      "id": "pze-sM57DXXdeagvwn69b",
      "metadata": {},
      "outputs": [],
      "source": [
        "# Define matrices to be used in the tasks:\n",
        "A = np.array([\n",
        "    [1, 0.5, 1/3, 0.25],\n",
        "    [0.5, 1/3, 0.25, 0.2],\n",
        "    [1/3, 0.25, 0.2, 1/6],\n",
        "    [0.25, 0.2, 1/6, 1/7]\n",
        "])\n",
        "\n",
        "B = np.array([\n",
        "    [-16, 15, -14, 13],\n",
        "    [-12, 11, -10, 9],\n",
        "    [-8, 7, -6, 5],\n",
        "    [-4, 3, -2, 1]\n",
        "])\n",
        "\n",
        "C = np.array([\n",
        "    [1, 1/2, 1/3, 1/4],\n",
        "    [1/2, 1/3, 1/4, 1/5],\n",
        "    [1/3, 1/5, 1/7, 1/9],\n",
        "    [1/4, 1/7, 1/8, 1/9],\n",
        "])\n",
        "\n",
        "D = np.array([\n",
        "    [2, 4, 5/2],\n",
        "    [-3/4, 2, 0.25],\n",
        "    [0.25, 0.5, 2]\n",
        "])\n",
        "\n",
        "E = np.array([\n",
        "    [1, -0.5],\n",
        "    [3/2, 0.5],\n",
        "    [0.25, 1]\n",
        "])"
      ]
    },
    {
      "cell_type": "markdown",
      "id": "1w6bZf2S3jlspPZPdOiOL",
      "metadata": {},
      "source": [
        "## Matrix Operations\n",
        "\n",
        "---\n",
        "**Task 1 (easy): Elementwise difference👩‍💻**\n",
        "1. Calculate $A-B$ in the code cell below.\n",
        "\n",
        "\n",
        "---"
      ]
    },
    {
      "cell_type": "code",
      "execution_count": 0,
      "id": "LCCtfMNfmepJTtzDUi96F",
      "metadata": {},
      "outputs": [],
      "source": [
        "# Write your solution here"
      ]
    },
    {
      "cell_type": "markdown",
      "id": "yQb9ePf7G0HPnlq8cbAAt",
      "metadata": {},
      "source": [
        "\n",
        "---\n",
        "**Task 2 (easy): Multiplication properties👩‍💻📽️**\n",
        "1. Calculate $AC$ and $CA$ in the code cell below. (You may use either [`np.dot`\n",
        "](https://numpy.org/doc/stable/reference/generated/numpy.dot.html<elem-3>.dot)\n",
        " or the `@`\n",
        " operator).\n",
        "\n",
        "2. Explain why the results are different.\n",
        "\n",
        "3. Calculate $DE$ and $ED$ in the code cell below.\n",
        "\n",
        "4. Explain what happens and why.\n",
        "\n",
        "\n",
        "\n",
        "---"
      ]
    },
    {
      "cell_type": "code",
      "execution_count": 0,
      "id": "yWxW-n_Lq8sx4TQ_zzFgP",
      "metadata": {},
      "outputs": [],
      "source": [
        "# Write your solution here"
      ]
    },
    {
      "cell_type": "markdown",
      "id": "l0RqnPAg8kMqPdrVrySDv",
      "metadata": {},
      "source": [
        "\n",
        "---\n",
        "**Task 3 (easy): Elementwise multiplication - Hadamard product👩‍💻**\n",
        "1. Calculate the elementwise multiplication of $A$ and $C$ using the `*`\n",
        " operator.\n",
        "2. Explain the difference between the `*`\n",
        " and `@`\n",
        " operators and identify which one is matrix multiplication.\n",
        "\n",
        "\n",
        "---"
      ]
    },
    {
      "cell_type": "code",
      "execution_count": 0,
      "id": "iN42xJk0MLetIal4Qy_As",
      "metadata": {},
      "outputs": [],
      "source": [
        "# Write your solution here"
      ]
    },
    {
      "cell_type": "markdown",
      "id": "5S5457EnDqkWz5SkhtmyT",
      "metadata": {},
      "source": [
        "---\n"
      ]
    }
  ],
  "metadata": {
    "kernelspec": {
      "display_name": "Python",
      "language": "python3",
      "name": "python3"
    },
    "language_info": {
      "codemirror_mode": {
        "name": "ipython",
        "version": 3
      },
      "file_extension": "py",
      "mimetype": "text/x-python",
      "name": "python"
    }
  },
  "nbformat": 4,
  "nbformat_minor": 5
}
