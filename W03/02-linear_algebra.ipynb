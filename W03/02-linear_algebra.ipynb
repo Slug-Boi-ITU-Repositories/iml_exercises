{
  "cells": [
    {
      "cell_type": "markdown",
      "id": "xGYZ70X2RfEHdbjXxFc9W",
      "metadata": {},
      "source": [
        "# Solutions to functions\n",
        "\n",
        "**Overview**\n",
        "In this exercise is about solutions to single and multivariate functions.\n",
        "\n",
        "\n",
        "<article class=\"message\">\n",
        "    <div class=\"message-body\">\n",
        "        <strong>List of individual tasks</strong>\n",
        "        <ul style=\"list-style: none;\">\n",
        "            <li>\n",
        "            <a href=\"#single\">Task 1: Solution multi-variate functions</a>\n",
        "            </li>\n",
        "            <li>\n",
        "            <a href=\"#weight1\">Task 2: Determine weights 1</a>\n",
        "            </li>\n",
        "            <li>\n",
        "            <a href=\"#weight2\">Task 3: Determine weights 2</a>\n",
        "            </li>\n",
        "            <li>\n",
        "            <a href=\"#weight3\">Task 4: Determine weights 2</a>\n",
        "            </li>\n",
        "            <li>\n",
        "            <a href=\"#loading\">Task 5: Reflection</a>\n",
        "            </li>\n",
        "        </ul>\n",
        "    </div>\n",
        "</article>\n",
        "\n",
        "\n",
        "---\n",
        "**Task 1 (easy): Solution single-variate functions**\n",
        "Select the option(s) \\(A, B,\\) or \\(C\\) for which the input variables \\((x, y, z, t)\\) satisfy the single-variate functions.\n",
        "1. A: \\(x=10\\), B: \\(x=12\\), C: \\(x=15\\)\n",
        "\n",
        "\\[3x-7=2x+5\\]\n",
        "\n",
        "2. A: \\(y=1\\), B: \\(y=2\\), C: \\(y=3\\)\n",
        "\n",
        "\\[4y+\\tfrac y2=9\\]\n",
        "\n",
        "3. A: \\(x=4\\), B: \\(x=5\\), C: \\(x=6\\)\n",
        "\n",
        "\\[5(x-3)+2x=20\\]\n",
        "\n",
        "4. A: \\(t=6\\), B: \\(t=4\\), C: \\(t=10\\)\n",
        "\n",
        "\\[2t+3=\\tfrac t2+9\\]\n",
        "\n",
        "\n",
        "\n",
        "---"
      ]
    },
    {
      "cell_type": "code",
      "execution_count": 0,
      "id": "lSrGkT75AT1iF7Mgqn_xU",
      "metadata": {},
      "outputs": [],
      "source": [
        "#Write your answer here..."
      ]
    },
    {
      "cell_type": "markdown",
      "id": "-MBhA44WOeUBJ5E6wjE29",
      "metadata": {},
      "source": [
        "\n",
        "---\n",
        "**Task 2 (easy): Solution multi-variate functions**\n",
        "Select the option(s) \\(A, B,\\) and/or \\(C\\) for which the input variables \\((x_1, x_2, x_3)\\) satisfy the multi-variate functions.\n",
        "1. A: \\((x_1=3, x_2=4)\\), B: \\((x_1=2, x_2=6)\\), C: \\((x_1=4, x_2=2)\\)\n",
        "\\[2x_1+3x_2=18\\]\n",
        "\n",
        "2. A: \\((x_2=2, x_1=7)\\), B: \\((x_1=6, x_2=1)\\), C: \\((x_2=4, x_1=8)\\)\n",
        "\\[x_1-x_2=5\\]\n",
        "\n",
        "3. A: \\((x_ 1=3, x_ 2=4)\\), B: \\((x_2=0, x_1=5)\\), C: \\((x_2=2, x_1=6)\\)\n",
        "\\[x_1^2+x_2^2=25\\]\n",
        "\n",
        "4. A: \\((x_1=2, x_2=4,, x_3=6)\\), B: \\((x_2=3, x_1=3, x_3=5)\\), C: \\((x_3=5, x_1=5, x_2=5)\\)\n",
        "\\[x_1+x_2+x_3=12\\]\n",
        "\n",
        "5. A: \\((x_3=3, x_1=2, x_2=1)\\), B: \\((x_2=2, x_1=3, x_3=3)\\), C: \\((x_1=4, x_3=5, x_2=1)\\)\n",
        "\\[2x_1-x_2+x_3=7\\]\n",
        "\n",
        "6. A: \\((x_2=5, x_1=2, x_3=4)\\), B: \\((x_3=2, x_2=4, x_1=3)\\), C: \\((x_1=4, x_2=3, x_3=2)\\)\n",
        "\\[x_1^2+x_2+x_3=15\\]\n",
        "\n",
        "7. A: \\((x_2=3, x_1=2, x_3=4)\\), B: \\((x_1=3, x_3=5, x_2=2)\\), C: \\((x_2=5, x_1=1, x_3=5)\\)\n",
        "\\[x_1x_2+x_3=10\\]\n",
        "\n",
        "\n",
        "\n",
        "---"
      ]
    },
    {
      "cell_type": "code",
      "execution_count": 0,
      "id": "6lqf0_3sG3H9TA5MU7zTu",
      "metadata": {},
      "outputs": [],
      "source": [
        "#Write your answer here..."
      ]
    },
    {
      "cell_type": "markdown",
      "id": "mTRo0VANL8sj4puhLVIBw",
      "metadata": {},
      "source": [
        "\n",
        "---\n",
        "**Task 3 (easy): Determine weights 1**\n",
        "Given the affine model: \n",
        "\\[y = w_1 x_1 + w_2 x_2 + w_3\\]\n",
        "Determine which of the weight options $(w_1, w_2, w_3)$ contain all data points below, such that all three points are on the plane:\n",
        "**Data points:**\n",
        "Input $x_i$, label $y$:\n",
        "- $x_1 = 2, x_2 = 0, y = 5  $\n",
        "- $x_1 = 1, x_2 = 1, y= 6  $\n",
        "- $x_1 = 0, x_2 = 2, y= 7  $\n",
        "\n",
        "**Options:**\n",
        "1. $(w_1, w_2, w_3) = (1, 0, 3)$\n",
        "2. $(w_1, w_2, w_3) = (1, 3, 2)$\n",
        "3. $(w_1, w_2, w_3) = (2, 3, 1)$\n",
        "\n",
        "\n",
        "---"
      ]
    },
    {
      "cell_type": "code",
      "execution_count": 0,
      "id": "S_MrT5e2RcNRImgXmQUzc",
      "metadata": {},
      "outputs": [],
      "source": [
        "#Write your answer here..."
      ]
    },
    {
      "cell_type": "markdown",
      "id": "T6iIDnlUI3f5y8zK0M0Jx",
      "metadata": {},
      "source": [
        "\n",
        "---\n",
        "**Task 4 (medium): Determine weights 2**\n",
        "Given the affine model:\n",
        "\\[y = w_1 x_1 + w_2 x_2 + w_3\\]\n",
        "1. Determine the values of the weights $w = (w_1, w_2, w_3)$ that make the model fit all of the points:\n",
        "\n",
        "- $x_1 =1, x_2= 0, y = 2$\n",
        "- $x_1 = 0, x_2 = 1, y = 3$\n",
        "- $x_1 = 1, x_2 = 1, y = 6$\n",
        "\n",
        "2. Rewrite the affine model as an inner-product using inputs and labels.\n",
        "3. Rewrite the model in matrix form $(Aw = y)$ using the input points and labels, with $w$ as the vector of unknowns to solve for.\n",
        "\n",
        "\n",
        "---"
      ]
    },
    {
      "cell_type": "code",
      "execution_count": 0,
      "id": "CwDJMBSZWqjY7qcpI6YcS",
      "metadata": {},
      "outputs": [],
      "source": [
        "#Write your answer here"
      ]
    },
    {
      "cell_type": "markdown",
      "id": "mYw-A-OdRM4y2zozboT0R",
      "metadata": {},
      "source": [
        "\n",
        "---\n",
        "**Task 5 (medium): Determine weights 2📽️**\n",
        "Rewrite the affine model as an inner-product seperating weights and inputs. If not possible, explain why. \n",
        "A: \n",
        "$$y = w_1 \\cos(x_1) + w_2 x_2^2 + w_3$$\n",
        "\n",
        "\n",
        "B: \n",
        "$$y = e^{x_1} w_1  + w_2 x_2^2 + w_3$$\n",
        " \n",
        "C: \n",
        "$$y =  w_3 + \\sin(x_1) w_1  + w_2 \\ln(x_2)$$\n",
        "\n",
        "\n",
        "D: \n",
        "$$y =  w_1 x_1 x_2  + w_2 x_2 + w_3$$\n",
        "\n",
        "\n",
        "E: \n",
        "$$y =  w_1 x_1 + w_2 \\sin(x_2)  + w_3 x_3 + w_4 \\cos(x_4) + w_5$$\n",
        "\n",
        "\n",
        "F: \n",
        "$$y =  w_1 x_1 + w_4\\sin(x_2)  + w_2 x_3 + w_3 \\cos(x_4) + w_4$$\n",
        "\n",
        "\n",
        "---"
      ]
    },
    {
      "cell_type": "code",
      "execution_count": 0,
      "id": "EMT1JkthG-eog-rJ3z4mF",
      "metadata": {},
      "outputs": [],
      "source": [
        "#Write your answer here..."
      ]
    },
    {
      "cell_type": "markdown",
      "id": "NFvZlPWW5fxwP357o7oX-",
      "metadata": {},
      "source": [
        "\n",
        "---\n",
        "**Task 6 (easy): Reflection💡📽️**\n",
        "1. How do these exercises relate to fitting a model to data?\n",
        "\n",
        "2. Each of the exercises above are designed to have a single exact solution. How does assuming a single exact solution relate to real world problems? Consider inputs and labels as part of your argument. \n",
        "\n",
        "3. In [Task 3](#weight2), what would happen, if more than three training points were available?\n",
        "\n",
        "4. What would happen to the solutions if the training points have small errors (noise)?\n",
        "\n",
        "5. In [Task 4](#weight3) use $D, E$ and $F$ to argue for what linearity means in different variables.\n",
        "\n",
        "\n",
        "\n",
        "---"
      ]
    },
    {
      "cell_type": "code",
      "execution_count": 0,
      "id": "zpGYPhKlKc9X0ZGaP2GWQ",
      "metadata": {},
      "outputs": [],
      "source": [
        "#Write your reflections here..."
      ]
    },
    {
      "cell_type": "markdown",
      "id": "SPkkYtiU0o1IIH0TXCN7S",
      "metadata": {},
      "source": []
    }
  ],
  "metadata": {
    "kernelspec": {
      "display_name": "Python",
      "language": "python3",
      "name": "python3"
    },
    "language_info": {
      "codemirror_mode": {
        "name": "ipython",
        "version": 3
      },
      "file_extension": "py",
      "mimetype": "text/x-python",
      "name": "python"
    }
  },
  "nbformat": 4,
  "nbformat_minor": 5
}
