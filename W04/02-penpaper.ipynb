{
  "cells": [
    {
      "cell_type": "markdown",
      "id": "KKAak5vfiz6y7V8P7EPh7",
      "metadata": {},
      "source": [
        "# Pen and paper exercises\n",
        "These exercises should be completed using only pen and paper.\n",
        "\n",
        "---\n",
        "**Task 1 (medium): Vector Spaces💡**\n",
        "[Exercise 1](https://app.grasple.com/#/courses/10532/ci/702896/subjects/15477)\n",
        "\n",
        "\n",
        "---"
      ]
    }
  ],
  "metadata": {
    "kernelspec": {
      "display_name": "Python",
      "language": "python3",
      "name": "python3"
    },
    "language_info": {
      "codemirror_mode": {
        "name": "ipython",
        "version": 3
      },
      "file_extension": "py",
      "mimetype": "text/x-python",
      "name": "python"
    }
  },
  "nbformat": 4,
  "nbformat_minor": 5
}
