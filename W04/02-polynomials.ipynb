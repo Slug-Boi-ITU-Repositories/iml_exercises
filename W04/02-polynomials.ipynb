{
  "cells": [
    {
      "cell_type": "markdown",
      "id": "fkdxpqKtCoXGJcTBPdJgv",
      "metadata": {},
      "source": [
        "# Polynomial models\n",
        "\n",
        "**Overview**\n",
        "In this exercise you will implement a method to estimate/learn the model parameters of single variate (single input) 2-nd and 3-rd order polynomials and use these models to predict labels for new datapoints. Next week you will extend this method to $n$-th order, single variate polynomials. \n",
        "\n",
        "\n",
        "<article class=\"message\">\n",
        "    <div class=\"message-body\">\n",
        "        <strong>List of individual tasks</strong>\n",
        "        <ul style=\"list-style: none;\">\n",
        "            <li>\n",
        "            <a href=\"#inclass\">Task 1: In-class exercise</a>\n",
        "            </li>\n",
        "            <li>\n",
        "            <a href=\"#loading7\">Task 2: Data preparation (data wrangling)</a>\n",
        "            </li>\n",
        "            <li>\n",
        "            <a href=\"#loading8\">Task 3: Constructing the design matrix</a>\n",
        "            </li>\n",
        "            <li>\n",
        "            <a href=\"#loading9\">Task 4: Inverting the design matrix</a>\n",
        "            </li>\n",
        "            <li>\n",
        "            <a href=\"#loading10\">Task 5: Plotting</a>\n",
        "            </li>\n",
        "            <li>\n",
        "            <a href=\"#loading10130\">Task 6: Making predictions</a>\n",
        "            </li>\n",
        "            <li>\n",
        "            <a href=\"#loading12\">Task 7: Load data</a>\n",
        "            </li>\n",
        "            <li>\n",
        "            <a href=\"#loading11\">Task 8: Third order polynomials</a>\n",
        "            </li>\n",
        "            <li>\n",
        "            <a href=\"#loading13\">Task 9: Plotting</a>\n",
        "            </li>\n",
        "            <li>\n",
        "            <a href=\"#loading145\">Task 10: Observe</a>\n",
        "            </li>\n",
        "            <li>\n",
        "            <a href=\"#loading100\">Task 11: Making predictions</a>\n",
        "            </li>\n",
        "            <li>\n",
        "            <a href=\"#loading1030\">Task 12: Observe</a>\n",
        "            </li>\n",
        "        </ul>\n",
        "    </div>\n",
        "</article>\n",
        "\n",
        "## 1st-order Polynimial model\n",
        "\n",
        "---\n",
        "**Task 1 (easy): In-class exercise👩‍💻**\n",
        "1. Finish all of the tasks from the W3 in-class exercise\n",
        ".\n",
        "\n",
        "**Note:** If you attented the lecture and in-class exercise you are all set.\n",
        "\n",
        "\n",
        "---## 2nd-order Polynomial model\n",
        "A 2nd-order polynomial model, also known as a quadratic model, can be expressed as:\n",
        "\n",
        "$$ y = w_0 + w_1 x + w_2 x^2 $$\n",
        "This non-linear model assumes that the relationship between the input $x$ and the label $y$ is quadratic. This way a \"curved\" relationship between inputs and outputs can be modelled which can capture patterns that a simple linear model might miss. \n",
        "By _fitting_ this model, the aim is to learn the parameters $w_0$, $w_1$, and $w_2$ that minimize the difference (the error) between the predicted values and the output (labels), providing a more flexible fit compared to a linear model.\n",
        "**Note:** In this exercise a minimum number of points to fit the model is used, therefore the error between predicted values and actual data will always be 0.\n",
        "\n",
        "\n",
        "---\n",
        "**Task 2 (easy): Load data👩‍💻**\n",
        "1. Run the cell below to load libraries and construct the datasets.\n",
        "\n",
        "\n",
        "---"
      ]
    },
    {
      "cell_type": "code",
      "execution_count": 1,
      "id": "By_S9ZGOWCmBrst87AKtz",
      "metadata": {},
      "outputs": [],
      "source": [
        "import numpy as np\n",
        "import matplotlib.pyplot as plt\n",
        "import util_week3 #import exercise specific functionality\n",
        "\n",
        "quadratic_dataset_1 = np.array([[1, 2], \n",
        "                                [2, 3], \n",
        "                                [3, 6]])\n",
        "\n",
        "quadratic_dataset_2 = np.array([[9, 3], \n",
        "                                [7, 5], \n",
        "                                [1, 9]])\n",
        "\n",
        "quadratic_dataset_3 = np.array([[8, 4], \n",
        "                                [10, 5], \n",
        "                                [3, 1]])"
      ]
    },
    {
      "cell_type": "markdown",
      "id": "Fn-7Vez5dFQ8V3Uowy_l3",
      "metadata": {},
      "source": [
        "Throughout the next tasks, the aim is to construct the design matrix using the known variables, followed by learning the model parameters (solving) using the inverse of the design matrix. The subsequent tasks involve using the learnt model parameters to predict new unseen inputs and plotting the results.\n",
        "\n",
        "---\n",
        "**Task 3 (easy): Data preparation (data wrangling)👩‍💻**\n",
        "1. For each dataset identify which values correspond to inputs and which are the labels.\n",
        "2. Complete the `separate_inputs_labels`\n",
        " function below. The function takes a dataset as input and returns the inputs as the `X_quadratic`\n",
        " matrix and the labels as the `y_quadratic`\n",
        " vector.\n",
        "\n",
        "\n",
        "---"
      ]
    },
    {
      "cell_type": "code",
      "execution_count": 8,
      "id": "1ihfBM3isHNptcI1lLMxi",
      "metadata": {},
      "outputs": [
        {
          "name": "stdout",
          "output_type": "stream",
          "text": [
            "X1_quadratic: \n",
            " [[1]\n",
            " [2]\n",
            " [3]]\n",
            "y1_quadratic: \n",
            " [2 3 6]\n"
          ]
        }
      ],
      "source": [
        "def separate_inputs_labels(dataset):\n",
        "    \"\"\"\n",
        "    This function takes a dataset as input and returns the inputs and labels.\n",
        "    \n",
        "    Parameters:\n",
        "    dataset (numpy array): The dataset to be separated.\n",
        "    \n",
        "    Returns:\n",
        "    X_quadratic (3x1 numpy array): The input matrix.\n",
        "    y_quadratic (1x3 numpy array): The labels vector.\n",
        "    \"\"\"\n",
        "    \n",
        "    # I FUCKING HATE PYTHON SLICING ITS CURSED ITS WRONG AND ITS UNAMERICAN\n",
        "    X_quadratic = dataset[:,:1]\n",
        "    y_quadratic = dataset[:,1]\n",
        "    return X_quadratic, y_quadratic\n",
        "\n",
        "# Applying the function to each quadratic dataset\n",
        "X1_quadratic, y1_quadratic = separate_inputs_labels(quadratic_dataset_1)\n",
        "X2_quadratic, y2_quadratic = separate_inputs_labels(quadratic_dataset_2)\n",
        "X3_quadratic, y3_quadratic = separate_inputs_labels(quadratic_dataset_3)\n",
        "\n",
        "print(\"X1_quadratic: \\n\", X1_quadratic)\n",
        "print(\"y1_quadratic: \\n\", y1_quadratic)"
      ]
    },
    {
      "cell_type": "markdown",
      "id": "5FCVc-mYOIpxwBgWxXI_m",
      "metadata": {},
      "source": [
        "\n",
        "---\n",
        "**Task 4 (easy): Constructing the design matrix👩‍💻**\n",
        "Reuse the code from the W3 in-class exercise\n",
        ":\n",
        "1. For each data set construct the design matrix for a 2nd order polynomial.\n",
        "2. Print the results.\n",
        "\n",
        "\n",
        "---"
      ]
    },
    {
      "cell_type": "code",
      "execution_count": 10,
      "id": "3VieL3PTPv9AHlc5cbPy9",
      "metadata": {},
      "outputs": [
        {
          "name": "stdout",
          "output_type": "stream",
          "text": [
            "Design Matrix for Dataset 1:\n",
            " [[1 1 1]\n",
            " [4 2 1]\n",
            " [9 3 1]]\n"
          ]
        }
      ],
      "source": [
        "def create_design_matrix(inputs):\n",
        "    return np.array([[c[0] ** 2, c[0], 1] for c in inputs])\n",
        "        \n",
        "\n",
        "X1_quadratic_design = create_design_matrix(X1_quadratic)\n",
        "print(\"Design Matrix for Dataset 1:\\n\", X1_quadratic_design)"
      ]
    },
    {
      "cell_type": "markdown",
      "id": "59QQiC9EG2bWKOKWNLmBt",
      "metadata": {},
      "source": [
        "\n",
        "---\n",
        "**Task 5 (easy): Inverting the design matrix👩‍💻**\n",
        "1. Compute the inverse of each design matrix.\n",
        "2. Compute the model parameters (referenced as `weigths`\n",
        " in the cells below), then print the results.\n",
        "\n",
        "\n",
        "---"
      ]
    },
    {
      "cell_type": "code",
      "execution_count": 21,
      "id": "jGLiUZrphNaJmH2V9DaTB",
      "metadata": {},
      "outputs": [
        {
          "name": "stdout",
          "output_type": "stream",
          "text": [
            "Model parameters for Model 1: [ 1. -2.  3.]\n"
          ]
        }
      ],
      "source": [
        "X2_quadratic_design = create_design_matrix(X2_quadratic)\n",
        "X3_quadratic_design = create_design_matrix(X3_quadratic)\n",
        "\n",
        "inv = np.linalg.inv\n",
        "\n",
        "X1I = inv(X1_quadratic_design)\n",
        "X2I = inv(X2_quadratic_design)\n",
        "X3I = inv(X3_quadratic_design)\n",
        "\n",
        "weights1_quadratic = X1I@y1_quadratic\n",
        "weights2_quadratic = X2I@y2_quadratic\n",
        "weights3_quadratic = X3I@y3_quadratic\n",
        "\n",
        "print(\"Model parameters for Model 1:\", weights1_quadratic)"
      ]
    },
    {
      "cell_type": "markdown",
      "id": "vKMUCCcy8MrAVV1rSjXq5",
      "metadata": {},
      "source": [
        "\n",
        "---\n",
        "**Task 6 (easy): Plotting👩‍💻💡**\n",
        "1. Use the `plot_quadratic_model`\n",
        " function from the `util_polynimial.py`\n",
        " file to plot the results. The input parameters are:    - `X`\n",
        "(Nx1 numpy array): input\n",
        "    - `y`\n",
        "(Nx1 numpyarray): labels\n",
        "    - `weights`\n",
        "(Nx1 numpyarray): model weights \n",
        "\n",
        "\n",
        "\n",
        "\n",
        "---"
      ]
    },
    {
      "cell_type": "code",
      "execution_count": 13,
      "id": "sNTWnzuEJ4vmra11TcSCg",
      "metadata": {},
      "outputs": [
        {
          "data": {
            "image/png": "[encoded data removed]",
            "text/plain": [
              "<Figure size 640x480 with 1 Axes>"
            ]
          },
          "metadata": {},
          "output_type": "display_data"
        }
      ],
      "source": [
        "util_week3.plot_quadratic_model(X1_quadratic, y1_quadratic, weights1_quadratic)"
      ]
    },
    {
      "cell_type": "markdown",
      "id": "lpth7fJGGD3DZVStyYfVP",
      "metadata": {},
      "source": [
        "\n",
        "---\n",
        "**Task 7 (easy): Observe💡**\n",
        "1. Visually inspect the plots and discuss how the model parameters influence the shape and position of the fitted curve. \n",
        "2. Compare the results of the polynomial model to the outcome of the linear model implemented in the in-class exercise.\n",
        "3. What are the pre(di)c(k)(-i)ted value for $x = 0.5, x = 2.5, x = 3.5$, how does it relate to the graph?\n",
        "\n",
        "\n",
        "---"
      ]
    },
    {
      "cell_type": "markdown",
      "id": "dbf892d7",
      "metadata": {},
      "source": [
        "# 1. I am convinced\n",
        "a is the growth rate of the polynomial\n",
        "b is the weird inverse parabula skew where the graph follows the inverse parabula whilst keeping the same y intersect\n",
        "c is the y intersect\n",
        "\n",
        "# 2. What?\n",
        "\n",
        "# 3. as seen in the calculation be low\n",
        "It is in fact [2.25 4.25 8.25]\n"
      ]
    },
    {
      "cell_type": "code",
      "execution_count": 16,
      "id": "z4bDXPyJHjf_UdHgMFYAf",
      "metadata": {},
      "outputs": [
        {
          "name": "stdout",
          "output_type": "stream",
          "text": [
            "[2.25 4.25 8.25]\n"
          ]
        }
      ],
      "source": [
        "# Write your reflections here..\n",
        "\n",
        "new_guy = np.array([[0.5],[2.5],[3.5]])\n",
        "\n",
        "new_design = create_design_matrix(new_guy)\n",
        "\n",
        "out_guy = new_design@weights1_quadratic\n",
        "\n",
        "print(out_guy)"
      ]
    },
    {
      "cell_type": "markdown",
      "id": "G5e8nqcHxdDYMryVpqhhF",
      "metadata": {},
      "source": [
        "Use the polynomial equation with the learned model parameters on the new inputs to make predictions.\n",
        "\n",
        "---\n",
        "**Task 8 (easy): Making predictions👩‍💻💡**\n",
        "The cell below contains an array of new inputs. Follow these steps to predict a label for each the new input:\n",
        "1. For each trained model, use the model parameters to predict a label for the new input. The model parameters for the different models should lead to different predictions. Store the predicted label as a separate variable. \n",
        "2. Plot the results using the function `plot_quadratic_model_with_predictions`\n",
        " from the `util_week3.py`\n",
        " file. The input parameters of the function are:    - `X`\n",
        "(Nx1 numpy array): input\n",
        "    - `y`\n",
        "(Nx1 numpyarray): labels\n",
        "    - `weights`\n",
        "(Nx1 numpyarray): model weights \n",
        "    - `x`\n",
        "(Mx1 numpy array): new inputs\n",
        "    - `y'`\n",
        " (Mx1 numpy array): new input predictions\n",
        "\n",
        "\n",
        "3. Compare the plots and the predicted labels obtained with the different models.\n",
        "4. Extend the `new_inputs`\n",
        " array with the points `1.5`\n",
        " and `-1`\n",
        ". Follow the same steps as above to obtain predicted labels for each input. \n",
        "5. Follow the steps above to predict 3 lavels for each model. A total of 9 predicted values must be submitted as part of the **mandatory** activity on [Grasple](https://app.grasple.com/#/courses/10532/ci/734077/diagnoses/12887)\n",
        "\n",
        "\n",
        "\n",
        "---"
      ]
    },
    {
      "cell_type": "code",
      "execution_count": 26,
      "id": "MRUpvFSgTkJHKgPNA8rZl",
      "metadata": {},
      "outputs": [
        {
          "name": "stdout",
          "output_type": "stream",
          "text": [
            "[171.     2.25   6.  ] [-3.45833333  8.78125     9.66666667] [ 6.65714286 -0.03928571 -1.91428571]\n"
          ]
        }
      ],
      "source": [
        "# New array of inputs for prediction, currently containing a single element\n",
        "new_input = np.array([[14],[1.5],[-1]])\n",
        "\n",
        "design_new_input = create_design_matrix(new_input)\n",
        "\n",
        "prediction1 = design_new_input@weights1_quadratic\n",
        "prediction2 = design_new_input@weights2_quadratic\n",
        "prediction3 = design_new_input@weights3_quadratic\n",
        "\n",
        "print(prediction1, prediction2,prediction3)"
      ]
    },
    {
      "cell_type": "markdown",
      "id": "vGyIxtU4imR09H_W0vpIn",
      "metadata": {},
      "source": [
        "## 3rd-order Polynomial models\n",
        "This exercise is about learning third order polynomials.\n",
        "A 3rd-order polynomial model is given by:\n",
        "\n",
        "$$ y = w_0 + w_1 x + w_2 x^2 + w_3 x^3 $$\n",
        "A 3rd-order polynomial allow for more flexibility than the previous models by adding the cubic term $x^3$\n",
        "In the next tasks you will follow similar steps as with 1. and 2. order polynomial. This includes:\n",
        "1. Preparing the dataset.\n",
        "2. Constructing the design matrix.\n",
        "3. Calculating the model weights.\n",
        "4. Plotting the results.\n",
        "5. Using the model to make predictions for new inputs.\n",
        "\n",
        "\n",
        "---\n",
        "**Task 9 (easy): Load data👩‍💻**\n",
        "1. Run the cell below to construct a new dataset.\n",
        "\n",
        "\n",
        "---"
      ]
    },
    {
      "cell_type": "code",
      "execution_count": 0,
      "id": "ngH9NsRLa5tCXMpg0QzKx",
      "metadata": {},
      "outputs": [],
      "source": [
        "cubic_dataset = np.array([[7, 6], [5, 24], [8, 60], [1, 120]])"
      ]
    },
    {
      "cell_type": "markdown",
      "id": "e8wDCMFU-t7aYyxJmtjs0",
      "metadata": {},
      "source": [
        "\n",
        "---\n",
        "**Task 10 (easy): Third order polynomials👩‍💻**\n",
        "1. For the cubic dataset identify which values correspond to inputs and which are the ground truth labels.\n",
        "2. Create a $4 \\times 1$ matrix called `X_cubic`\n",
        " that contain the inputs, and a vector called `y_cubic`\n",
        " containing the corresponding ground truth labels.\n",
        "3. Create the design matrix for the cubic model.\n",
        "4. Calculate the inverse of the design matrix.\n",
        "5. Follow the same procedure as previous to compute the model parameters.\n",
        "\n",
        "\n",
        "---"
      ]
    },
    {
      "cell_type": "code",
      "execution_count": 0,
      "id": "lseqsthi4HVAVYI2v9kyl",
      "metadata": {},
      "outputs": [],
      "source": [
        "# Write your solution here"
      ]
    },
    {
      "cell_type": "markdown",
      "id": "WL5nZQMkK4KuTnJ9vSr1V",
      "metadata": {},
      "source": [
        "\n",
        "---\n",
        "**Task 11 (easy): Plotting👩‍💻💡**\n",
        "1. Use the `plot_cubic_model`\n",
        " function to plot the results. The input parameters of the function are:    - `X`\n",
        "(Nx1 numpy array): input\n",
        "    - `y`\n",
        "(Nx1 numpyarray): labels\n",
        "    - `weights`\n",
        "(Nx1 numpyarray): model weights \n",
        "\n",
        "\n",
        "2. Visually inspect the plots and discuss how the model parameters influence the shape and position of the fitted curve.\n",
        "\n",
        "\n",
        "---"
      ]
    },
    {
      "cell_type": "code",
      "execution_count": 0,
      "id": "be1GJKD6Xl0W-Vj7xfRTB",
      "metadata": {},
      "outputs": [],
      "source": [
        "#Plot the data and fitted cubic model for the dataset"
      ]
    },
    {
      "cell_type": "markdown",
      "id": "VNwflEbsOo3VXzEEtO0p6",
      "metadata": {},
      "source": [
        "\n",
        "---\n",
        "**Task 12 (easy): Observe💡**\n",
        "1. Compare the results of the 3rd order polynomial to the 1st and 2nd order models. Based on the plots, which model shows the best fit?\n",
        "2. What happens when trying to fit the model using dataset 1, 2 and 3. What goes wrong?\n",
        "\n",
        "\n",
        "---"
      ]
    },
    {
      "cell_type": "code",
      "execution_count": 0,
      "id": "Syc2dJhCDTXEwjnDH7zZT",
      "metadata": {},
      "outputs": [],
      "source": [
        "# Write your reflections here..."
      ]
    },
    {
      "cell_type": "markdown",
      "id": "b7bLBPE3a2i3X0feGFEt_",
      "metadata": {},
      "source": [
        "\n",
        "---\n",
        "**Task 13 (easy): Making predictions👩‍💻💡**\n",
        "In this task, the learned 3rd order polynomial model is used to predict labels for the `new_inputs`\n",
        " array defined below.\n",
        "1. Use the obtained cubic model parameters to predict labels for the new inputs. \n",
        "2. Plot the results using the `plot_cubic_model_with_predictions`\n",
        " function in the `util_polynomial.py`\n",
        " file. The input parameters of the function are:    - `X`\n",
        "(Nx1 numpy array): input\n",
        "    - `y`\n",
        "(Nx1 numpyarray): labels\n",
        "    - `weights`\n",
        "(Nx1 numpyarray): model weights \n",
        "    - `x`\n",
        "(Mx1 numpy array): new inputs\n",
        "    - `y'`\n",
        " (Mx1 numpy array): new input predictions\n",
        "\n",
        "\n",
        "\n",
        "\n",
        "---"
      ]
    },
    {
      "cell_type": "code",
      "execution_count": 0,
      "id": "cNGVwB1VJuCOdEWbEeBYS",
      "metadata": {},
      "outputs": [],
      "source": [
        "new_inputs = np.array([14, 1.5, -1])"
      ]
    },
    {
      "cell_type": "markdown",
      "id": "rj7dl31tNsBaIOXijg-jl",
      "metadata": {},
      "source": [
        "\n",
        "---\n",
        "**Task 14 (easy): Observe💡**\n",
        "1. What are the precited value for $x = 3$, $x = 6$, $x = 12$, how does it relate to the graph?\n",
        "2. Compare the predictions of the cubic model with the predicitons of the quadratic models.\n",
        "3. Which model is prefered in terms of representing the relationship between inputs and outputs and why?\n",
        "4. What is the difference between the design matrix and the data matrix?\n",
        "5. What is the difference between the design matrices of different order polynomials? And how does that relate to the datamatrix?\n",
        "\n",
        "\n",
        "---"
      ]
    },
    {
      "cell_type": "code",
      "execution_count": 0,
      "id": "DMiPszNKyRULjVUQCH7Jv",
      "metadata": {},
      "outputs": [],
      "source": [
        "#Write your reflection here..."
      ]
    },
    {
      "cell_type": "markdown",
      "id": "JkAm0xZrnxabxAMom5_sK",
      "metadata": {},
      "source": [
        "\n",
        "---\n",
        "**Task 15 (easy): Observe💡**\n",
        "1. For which values of $x$ is $y = 0$? \n",
        "2. How many of these exists?\n",
        "\n",
        "\n",
        "---"
      ]
    }
  ],
  "metadata": {
    "kernelspec": {
      "display_name": "iml",
      "language": "python",
      "name": "python3"
    },
    "language_info": {
      "codemirror_mode": {
        "name": "ipython",
        "version": 3
      },
      "file_extension": ".py",
      "mimetype": "text/x-python",
      "name": "python",
      "nbconvert_exporter": "python",
      "pygments_lexer": "ipython3",
      "version": "3.11.13"
    }
  },
  "nbformat": 4,
  "nbformat_minor": 5
}
