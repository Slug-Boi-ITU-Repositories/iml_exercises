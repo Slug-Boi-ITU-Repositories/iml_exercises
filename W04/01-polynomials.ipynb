{
  "cells": [
    {
      "cell_type": "markdown",
      "id": "wAby7N6Qfqp9xr4d-zwNQ",
      "metadata": {},
      "source": [
        "# Polynomial models\n",
        "\n",
        "**Overview**\n",
        "In this exercise you will implement a method to estimate the model parameters of single variate (single input) 2-nd and 3-rd order polynomials and use these models to predict a label for new datapoints. Next week you will extend this method to $n$-th order, single variate, polynomials in a fairly straightforward manner. \n",
        "\n",
        "\n",
        "**Important**\n",
        "Ensure that you have finished all of the tasks from the W3 in-class exercise\n",
        ", as you will need them for the following tasks. \n",
        "\n",
        "\n",
        "<article class=\"message\">\n",
        "    <div class=\"message-body\">\n",
        "        <strong>List of individual tasks</strong>\n",
        "        <ul style=\"list-style: none;\">\n",
        "            <li>\n",
        "            <a href=\"#loading7\">Task 1: Data preparation (data wrangling)</a>\n",
        "            </li>\n",
        "            <li>\n",
        "            <a href=\"#loading8\">Task 2: Constructing the design matrix</a>\n",
        "            </li>\n",
        "            <li>\n",
        "            <a href=\"#loading9\">Task 3: Inverting the design matrix</a>\n",
        "            </li>\n",
        "            <li>\n",
        "            <a href=\"#loading10\">Task 4: Plotting</a>\n",
        "            </li>\n",
        "            <li>\n",
        "            <a href=\"#loading10130\">Task 5: Making predictions</a>\n",
        "            </li>\n",
        "            <li>\n",
        "            <a href=\"#loading12\">Task 6: Load data</a>\n",
        "            </li>\n",
        "            <li>\n",
        "            <a href=\"#loading11\">Task 7: Third order polynomials</a>\n",
        "            </li>\n",
        "            <li>\n",
        "            <a href=\"#loading13\">Task 8: Plotting</a>\n",
        "            </li>\n",
        "            <li>\n",
        "            <a href=\"#loading145\">Task 9: Observe</a>\n",
        "            </li>\n",
        "            <li>\n",
        "            <a href=\"#loading100\">Task 10: Making predictions</a>\n",
        "            </li>\n",
        "            <li>\n",
        "            <a href=\"#loading1030\">Task 11: Observe</a>\n",
        "            </li>\n",
        "        </ul>\n",
        "    </div>\n",
        "</article>\n",
        "\n",
        "## 2nd-order Polynomial model\n",
        "A 2nd-order polynomial model, also known as a quadratic model, can be expressed as:\n",
        "\n",
        "$$ y = w_0 + w_1 x + w_2 x^2 $$\n",
        "This model assumes that the relationship between the input $x$ and the label $y$ is non-linear and quadratic. This way a \"curved\" relationship can be modelled which can capture patterns that a simple linear model might miss. \n",
        "By _fitting_ this model, the aim is to find (learn) the parameters $w_0$, $w_1$, and $w_2$ that minimize the difference between the predicted values and the actual data, providing a more flexible fit compared to a linear model.\n",
        "\n",
        "---\n",
        "**Task 1 (easy): Load data👩‍💻**\n",
        "1. Run the cell below to load libraries and construct the datasets.\n",
        "\n",
        "\n",
        "---"
      ]
    },
    {
      "cell_type": "code",
      "execution_count": 0,
      "id": "_mvEtseIOx4zdXlHVkC68",
      "metadata": {},
      "outputs": [],
      "source": [
        "import numpy as np\n",
        "import matplotlib.pyplot as plt\n",
        "\n",
        "quadratic_dataset_1 = np.array([[1, 2], \n",
        "                                [2, 3], \n",
        "                                [3, 6]])\n",
        "\n",
        "quadratic_dataset_2 = np.array([[9, 3], \n",
        "                                [7, 5], \n",
        "                                [1, 9]])\n",
        "\n",
        "quadratic_dataset_3 = np.array([[8, 4], \n",
        "                                [10, 5], \n",
        "                                [3, 1]])"
      ]
    },
    {
      "cell_type": "markdown",
      "id": "irKC5BcoI0u5WNl9IElEJ",
      "metadata": {},
      "source": [
        "Throughout the next tasks, the aim is to construct the design matrix using the known variables, followed by learning the model parameters (solving) using the inverse of the design matrix. The subsequent tasks involve using the learnt model parameters to predict new unseen inputs and plotting the results.\n",
        "\n",
        "---\n",
        "**Task 2 (easy): Data preparation (data wrangling)👩‍💻**\n",
        "1. For each dataset identify which values correspond to inputs and which are the labels.\n",
        "2. Complete the `separate_inputs_labels`\n",
        " function below. The function takes a dataset as input and returns the inputs as the `X_quadratic`\n",
        " matrix and the labels as the `y_quadratic`\n",
        " vector.\n",
        "\n",
        "\n",
        "---"
      ]
    },
    {
      "cell_type": "code",
      "execution_count": 0,
      "id": "vnEi5ToDghcn5yVSUVORM",
      "metadata": {},
      "outputs": [],
      "source": [
        "def separate_inputs_labels(dataset):\n",
        "    \"\"\"\n",
        "    This function takes a dataset as input and returns the inputs and labels.\n",
        "    \n",
        "    Parameters:\n",
        "    dataset (numpy array): The dataset to be separated.\n",
        "    \n",
        "    Returns:\n",
        "    X_quadratic (3x1 numpy array): The input matrix.\n",
        "    y_quadratic (1x3 numpy array): The labels vector.\n",
        "    \"\"\"\n",
        "    \n",
        "    ...\n",
        "    return X_quadratic, y_quadratic\n",
        "\n",
        "# Applying the function to each quadratic dataset\n",
        "X1_quadratic, y1_quadratic = separate_inputs_labels(quadratic_dataset_1)\n",
        "X2_quadratic, y2_quadratic = separate_inputs_labels(quadratic_dataset_2)\n",
        "X3_quadratic, y3_quadratic = separate_inputs_labels(quadratic_dataset_3)\n",
        "\n",
        "print(\"X1_quadratic: \\n\", X1_quadratic)\n",
        "print(\"y1_quadratic: \\n\", y1_quadratic)"
      ]
    },
    {
      "cell_type": "markdown",
      "id": "mbnp5LXUYV6fa4w_RgR6l",
      "metadata": {},
      "source": [
        "\n",
        "---\n",
        "**Task 3 (easy): Constructing the design matrix👩‍💻**\n",
        "Reuse the code from the W3 in-class exercise\n",
        ":\n",
        "1. For each data set construct the design matrix by adding a 2nd order polynomial term.\n",
        "2. Print the results.\n",
        "\n",
        "\n",
        "---"
      ]
    },
    {
      "cell_type": "code",
      "execution_count": 0,
      "id": "my7XYJcG9Cc0Gqf1CLOAr",
      "metadata": {},
      "outputs": [],
      "source": [
        "print(\"Design Matrix for Dataset 1:\\n\", X1_quadratic_design)"
      ]
    },
    {
      "cell_type": "markdown",
      "id": "U9gxbKByhUCOiG8FKJgyn",
      "metadata": {},
      "source": [
        "\n",
        "---\n",
        "**Task 4 (easy): Inverting the design matrix👩‍💻**\n",
        "1. Compute the inverse of each design matrix.\n",
        "2. Compute the model parameters (referenced as `weigths`\n",
        " in the cells below), then print the results.\n",
        "\n",
        "\n",
        "---"
      ]
    },
    {
      "cell_type": "code",
      "execution_count": 0,
      "id": "KMTLscX7T9Nh8ZlWWgdiL",
      "metadata": {},
      "outputs": [],
      "source": [
        "print(\"Model parameters for Model 1:\", weights1_quadratic)"
      ]
    },
    {
      "cell_type": "markdown",
      "id": "5EJGlH7fYF7BxtjTjIN-H",
      "metadata": {},
      "source": [
        "\n",
        "---\n",
        "**Task 5 (easy): Plotting👩‍💻💡**\n",
        "1. Use the `plot_quadratic_model`\n",
        " function to plot the results. \n",
        "\n",
        "\n",
        "---"
      ]
    },
    {
      "cell_type": "code",
      "execution_count": 0,
      "id": "Cm4oq9X7osuFgdQ7BTO-X",
      "metadata": {},
      "outputs": [],
      "source": [
        "# Function to plot data points and fitted quadratic model\n",
        "def plot_quadratic_model(X, y, weights):\n",
        "    # Plot the data points\n",
        "    plt.scatter(X, y, color='blue', label='Given Points')\n",
        "    \n",
        "    # Extend x_vals range to include zero for correct visualization\n",
        "    x_vals = np.linspace(0, max(X) + 1, 100)\n",
        "    y_vals = weights[0] * x_vals**2 + weights[1] * x_vals + weights[2]\n",
        "    \n",
        "    # Plot the fitted polynomial\n",
        "    plt.plot(x_vals, \n",
        "             y_vals, \n",
        "             color='red', \n",
        "             label=f'Poly: y = {weights[0]:.2f}x^2 + {weights[1]:.2f}x + {weights[2]:.2f}')\n",
        "    \n",
        "    # Plot the y-intercept\n",
        "    plt.scatter(0, weights[2], color='green', zorder=5, label=f'Y-intercept (0, {weights[2]:.2f})')\n",
        "    \n",
        "    # Add title and labels\n",
        "    plt.title('Quadratic Model')\n",
        "    plt.xlabel('X')\n",
        "    plt.ylabel('y')\n",
        "    plt.legend()\n",
        "    plt.grid(True)\n",
        "    plt.show()\n",
        "\n",
        "\n",
        "plot_quadratic_model(X1_quadratic, y1_quadratic, weights1_quadratic)"
      ]
    },
    {
      "cell_type": "markdown",
      "id": "dnVVRa69jZ61Awkv03P2u",
      "metadata": {},
      "source": [
        "\n",
        "---\n",
        "**Task 6 (easy): Observe💡**\n",
        "1. Visually inspect the plots and discuss how the model parameters influence the shape and position of the fitted curve. \n",
        "2. Compare the results of the polynomial model to the outcome of the linear model implemented in the in-class exercise.\n",
        "\n",
        "\n",
        "---"
      ]
    },
    {
      "cell_type": "code",
      "execution_count": 0,
      "id": "DpJYRK2J0DnWmKJTj9PAC",
      "metadata": {},
      "outputs": [],
      "source": [
        "# Write your reflections here.."
      ]
    },
    {
      "cell_type": "markdown",
      "id": "oaCo7yPGsnn7iSvu25hKe",
      "metadata": {},
      "source": [
        "To make predictions with a polynomial model, you apply the polynomial equation to the new input using the estimated model parameters. The model then predicts the label (output) based on the learned model parameters and input values.\n",
        "\n",
        "---\n",
        "**Task 7 (easy): Making predictions👩‍💻💡**\n",
        "The cell below contains an array of new inputs. Follow these steps to predict a label for the new input:\n",
        "1. For each trained model, use the model parameters to predict a label for the new input. The model parameters for the different models should lead to different predictions. Store the predicted label as a separate variable. \n",
        "2. Plot the results using the `plot_quadratic_model_with_predictions`\n",
        " function. \n",
        "3. Compare the plots and the predicted labels obtained with the different models.\n",
        "4. Extend the `new_inputs`\n",
        " array with the points `1.5`\n",
        " and `-1`\n",
        ". Follow the same steps as above to obtain predicted labels for each input. \n",
        "5. Following the above steps should result in 3 predicted labels for each model. A total of 9 predicted values must be submitted as part of the **mandatory** activity on [Grasple](https://app.grasple.com/#/courses/10532/ci/734077/diagnoses/12887)\n",
        "\n",
        "\n",
        "\n",
        "---"
      ]
    },
    {
      "cell_type": "code",
      "execution_count": 0,
      "id": "7YasyGC_BKxBl8WwE4lTx",
      "metadata": {},
      "outputs": [],
      "source": [
        "# New array of inputs for prediction, currently containing a single element\n",
        "new_input = np.array([14])\n",
        "\n",
        "def plot_quadratic_model_with_predictions(X, y, weights, new_input, predicted_labels):\n",
        "    # Plot the original data points\n",
        "    plt.scatter(X, y, color='blue', label='Given Points')\n",
        "\n",
        "    # Plot the fitted quadratic model\n",
        "    x_vals = np.linspace(min(X.min(), new_input.min()), max(X.max(), new_input.max()), 100)\n",
        "    y_vals = weights[0] * x_vals**2 + weights[1] * x_vals + weights[2]\n",
        "    plt.plot(\n",
        "    x_vals, \n",
        "    y_vals, \n",
        "    color='red', \n",
        "    label=(\n",
        "        f'Poly: y = {weights[0]:.2f}x^2 + {weights[1]:.2f}x + '\n",
        "        f'{weights[2]:.2f}'\n",
        "    ))\n",
        "\n",
        "    # Plot the new inputs and their predicted labels\n",
        "    plt.scatter(new_input, predicted_labels, color='orange', label='Predicted Points')\n",
        "\n",
        "    # Add title, labels, and legend\n",
        "    plt.title('Quadratic Model with Predictions')\n",
        "    plt.xlabel('X')\n",
        "    plt.ylabel('y')\n",
        "    plt.legend()\n",
        "    plt.grid(True)\n",
        "    plt.show()"
      ]
    },
    {
      "cell_type": "markdown",
      "id": "cdxW-hUofI5EpK6Lvl0Qt",
      "metadata": {},
      "source": [
        "## 3rd-order Polynomial models\n",
        "This exercise is about using third order polynomials to obtained increased flexibility by introducing a cubic term $x^3$.\n",
        "A 3rd-order polynomial model is given by\n",
        "\n",
        "$$ y = w_0 + w_1 x + w_2 x^2 + w_3 x^3 $$\n",
        "In the next tasks you will follow similar steps as with 1. and 2. order polynomial. This includes:\n",
        "1. Preparing the dataset.\n",
        "2. Constructing the design matrix.\n",
        "3. Calculating the model weights.\n",
        "4. Plotting the results.\n",
        "5. Using the model to make predictions for new inputs.\n",
        "\n",
        "\n",
        "---\n",
        "**Task 8 (easy): Load data👩‍💻**\n",
        "1. Run the cell below to construct a new dataset.\n",
        "\n",
        "\n",
        "---:\n"
      ]
    },
    {
      "cell_type": "code",
      "execution_count": 0,
      "id": "hPAF-ij7vNkENc3ipStOr",
      "metadata": {},
      "outputs": [],
      "source": [
        "cubic_dataset = np.array([[7, 6], [5, 24], [8, 60], [1, 120]])"
      ]
    },
    {
      "cell_type": "markdown",
      "id": "kwIexJarqTBjl5nSEVtWx",
      "metadata": {},
      "source": [
        "\n",
        "---\n",
        "**Task 9 (easy): Third order polynomials👩‍💻**\n",
        "1. For each dataset identify which values correspond to inputs and which are the ground truth labels.\n",
        "2. Create a $4 \\times 1$ matrix called `X_cubic`\n",
        " that contain the inputs, and a vector called `y_cubic`\n",
        " containing the corresponding ground truth labels.\n",
        "3. Create the design matrix, remember to add tthe higher order terms.\n",
        "4. Calculate the inverse of the design matrix.\n",
        "5. Follow the same procedure as previous to compute the model parameters.\n",
        "\n",
        "\n",
        "---"
      ]
    },
    {
      "cell_type": "code",
      "execution_count": 0,
      "id": "_OULtUtCWm5T4Xuo3dneD",
      "metadata": {},
      "outputs": [],
      "source": [
        "# Write your solution here"
      ]
    },
    {
      "cell_type": "markdown",
      "id": "iPameg_BCqlslw6n4pUp-",
      "metadata": {},
      "source": [
        "\n",
        "---\n",
        "**Task 10 (easy): Plotting👩‍💻💡**\n",
        "1. Use the `plot_cubic_model`\n",
        " function to plot the results.\n",
        "2. Visually inspect the plots and discuss how the model parameters influence the shape and position of the fitted curve.\n",
        "\n",
        "\n",
        "---"
      ]
    },
    {
      "cell_type": "code",
      "execution_count": 0,
      "id": "6cnT4J3gpi-nunsouzDir",
      "metadata": {},
      "outputs": [],
      "source": [
        "# Function to plot data points and fitted cubic model\n",
        "def plot_cubic_model(X, y, weights):\n",
        "    # Plot the data points\n",
        "    plt.scatter(X, y, color='blue', label='Given Points')\n",
        "    \n",
        "    # Extend x_vals range to include zero for correct visualization\n",
        "    x_vals = np.linspace(0, max(X) + 1, 100)\n",
        "    y_vals = weights[0] * x_vals**3 + weights[1] * x_vals**2 + weights[2] * x_vals + weights[3]\n",
        "    \n",
        "    # Plot the fitted polynomial\n",
        "    plt.plot(\n",
        "    x_vals, \n",
        "    y_vals, \n",
        "    color='red', \n",
        "    label=(\n",
        "        f'Poly: y = {weights[0]:.2f}x^3 + {weights[1]:.2f}x^2 + '\n",
        "        f'{weights[2]:.2f}x + {weights[3]:.2f}'\n",
        "    ))\n",
        "    \n",
        "    # Plot the y-intercept\n",
        "    plt.scatter(0, weights[3], color='green', zorder=5, label=f'Y-intercept (0, {weights[3]:.2f})')\n",
        "    \n",
        "    # Add title and labels\n",
        "    plt.title('Cubic Model')\n",
        "    plt.xlabel('X')\n",
        "    plt.ylabel('y')\n",
        "    plt.legend()\n",
        "    plt.grid(True)\n",
        "    plt.xlim([-0.25, max(X) + 1])  # Ensure the x-axis starts from 0\n",
        "    plt.show()"
      ]
    },
    {
      "cell_type": "markdown",
      "id": "Xt9vr82cmETgnaaq1xPcx",
      "metadata": {},
      "source": [
        "\n",
        "---\n",
        "**Task 11 (easy): Observe💡**\n",
        "1. Compare the results of the 3rd order polynomial to the 1st and 2nd order models. Based on the plots, which model shows the best fit?\n",
        "\n",
        "\n",
        "---"
      ]
    },
    {
      "cell_type": "code",
      "execution_count": 0,
      "id": "NWxPPkvYouKJlOPBJaRtf",
      "metadata": {},
      "outputs": [],
      "source": [
        "# Write your reflections here..."
      ]
    },
    {
      "cell_type": "markdown",
      "id": "hqL2gD-1x0wgWXd6x0o0f",
      "metadata": {},
      "source": [
        "\n",
        "---\n",
        "**Task 12 (easy): Making predictions👩‍💻💡**\n",
        "In this task, the learned 3rd order polynomial model is used to predict labels for the `new_inputs`\n",
        " array defined below.\n",
        "1. Use the obtained cubic model parameters to predict labels for the new inputs. \n",
        "2. Plot the results using the `plot_cubic_model_with_predictions`\n",
        " function.\n",
        "\n",
        "\n",
        "---"
      ]
    },
    {
      "cell_type": "code",
      "execution_count": 0,
      "id": "xNy37PVnRbxkSJkYcUOIF",
      "metadata": {},
      "outputs": [],
      "source": [
        "new_inputs = np.array([14, 1.5, -1])\n",
        "\n",
        "# Function to plot data points, fitted cubic model, and predictions\n",
        "def plot_cubic_model_with_predictions(X, y, weights, new_inputs, predicted_labels):\n",
        "    # Plot the original data points\n",
        "    plt.scatter(X, y, color='blue', label='Given Points')\n",
        "\n",
        "    # Plot the fitted cubic model\n",
        "    x_vals = np.linspace(min(min(X), min(new_inputs)), max(max(X), max(new_inputs)), 100)\n",
        "    y_vals = weights[0] * x_vals**3 + weights[1] * x_vals**2 + weights[2] * x_vals + weights[3]\n",
        "    plt.plot(\n",
        "    x_vals, \n",
        "    y_vals, \n",
        "    color='red', \n",
        "    label=(\n",
        "        f'Poly: y = {weights[0]:.2f}x^3 + {weights[1]:.2f}x^2 + '\n",
        "        f'{weights[2]:.2f}x + {weights[3]:.2f}'\n",
        "    ))\n",
        "\n",
        "    # Plot the new inputs and their predicted labels\n",
        "    plt.scatter(new_inputs, predicted_labels, color='orange', label='Predicted Points')\n",
        "\n",
        "    # Add title, labels, and legend\n",
        "    plt.title('Learned Cubic Model with Predictions')\n",
        "    plt.xlabel('X')\n",
        "    plt.ylabel('y')\n",
        "    plt.legend()\n",
        "    plt.grid(True)\n",
        "    plt.show()"
      ]
    },
    {
      "cell_type": "markdown",
      "id": "ZGA2THzajISuMe8pLDFzm",
      "metadata": {},
      "source": [
        "\n",
        "---\n",
        "**Task 13 (easy): Observe💡**\n",
        "1. Compare the predictions of the cubic model with the predicitons of the quadratic models.\n",
        "2. Which model is prefered in terms of representing the relationship between inputs and outputs and why?\n",
        "\n",
        "\n",
        "---"
      ]
    },
    {
      "cell_type": "code",
      "execution_count": 0,
      "id": "nzPJxWqBDHiznNnmNr_jm",
      "metadata": {},
      "outputs": [],
      "source": [
        "#Write your reflection here..."
      ]
    },
    {
      "cell_type": "markdown",
      "id": "3pr0LemuqicsexfpGp_91",
      "metadata": {},
      "source": []
    }
  ],
  "metadata": {
    "kernelspec": {
      "display_name": "Python",
      "language": "python3",
      "name": "python3"
    },
    "language_info": {
      "codemirror_mode": {
        "name": "ipython",
        "version": 3
      },
      "file_extension": "py",
      "mimetype": "text/x-python",
      "name": "python"
    }
  },
  "nbformat": 4,
  "nbformat_minor": 5
}
